{
  "nbformat": 4,
  "nbformat_minor": 0,
  "metadata": {
    "colab": {
      "name": "DiabeticRetinopathyRiskModel.ipynb",
      "provenance": []
    },
    "kernelspec": {
      "name": "python3",
      "display_name": "Python 3"
    }
  },
  "cells": [
    {
      "cell_type": "code",
      "metadata": {
        "id": "2y2oK52u9WEv",
        "colab_type": "code",
        "colab": {}
      },
      "source": [
        "# import\n",
        "import numpy as np\n",
        "import pandas as pd\n",
        "import matplotlib.pyplot as plt\n",
        "\n",
        "from sklearn.model_selection import train_test_split\n",
        "from sklearn.linear_model import LogisticRegression"
      ],
      "execution_count": 0,
      "outputs": []
    },
    {
      "cell_type": "code",
      "metadata": {
        "id": "ftAEe4J2_ltk",
        "colab_type": "code",
        "colab": {}
      },
      "source": [
        "# read the dataset\n",
        "X = pd.read_csv('/content/X_data.csv',index_col=0)\n",
        "y_df = pd.read_csv('/content/y_data.csv',index_col=0)\n",
        "y = y_df['y']"
      ],
      "execution_count": 0,
      "outputs": []
    },
    {
      "cell_type": "code",
      "metadata": {
        "id": "ZIjJ8LjP_3aC",
        "colab_type": "code",
        "outputId": "67f8fda2-de6c-4866-f30c-c11037506df5",
        "colab": {
          "base_uri": "https://localhost:8080/",
          "height": 204
        }
      },
      "source": [
        "# plot the head of varables\n",
        "X.head()"
      ],
      "execution_count": 5,
      "outputs": [
        {
          "output_type": "execute_result",
          "data": {
            "text/html": [
              "<div>\n",
              "<style scoped>\n",
              "    .dataframe tbody tr th:only-of-type {\n",
              "        vertical-align: middle;\n",
              "    }\n",
              "\n",
              "    .dataframe tbody tr th {\n",
              "        vertical-align: top;\n",
              "    }\n",
              "\n",
              "    .dataframe thead th {\n",
              "        text-align: right;\n",
              "    }\n",
              "</style>\n",
              "<table border=\"1\" class=\"dataframe\">\n",
              "  <thead>\n",
              "    <tr style=\"text-align: right;\">\n",
              "      <th></th>\n",
              "      <th>Age</th>\n",
              "      <th>Systolic_BP</th>\n",
              "      <th>Diastolic_BP</th>\n",
              "      <th>Cholesterol</th>\n",
              "    </tr>\n",
              "  </thead>\n",
              "  <tbody>\n",
              "    <tr>\n",
              "      <th>0</th>\n",
              "      <td>77.196340</td>\n",
              "      <td>85.288742</td>\n",
              "      <td>80.021878</td>\n",
              "      <td>79.957109</td>\n",
              "    </tr>\n",
              "    <tr>\n",
              "      <th>1</th>\n",
              "      <td>63.529850</td>\n",
              "      <td>99.379736</td>\n",
              "      <td>84.852361</td>\n",
              "      <td>110.382411</td>\n",
              "    </tr>\n",
              "    <tr>\n",
              "      <th>2</th>\n",
              "      <td>69.003986</td>\n",
              "      <td>111.349455</td>\n",
              "      <td>109.850616</td>\n",
              "      <td>100.828246</td>\n",
              "    </tr>\n",
              "    <tr>\n",
              "      <th>3</th>\n",
              "      <td>82.638210</td>\n",
              "      <td>95.056128</td>\n",
              "      <td>79.666851</td>\n",
              "      <td>87.066303</td>\n",
              "    </tr>\n",
              "    <tr>\n",
              "      <th>4</th>\n",
              "      <td>78.346286</td>\n",
              "      <td>109.154591</td>\n",
              "      <td>90.713220</td>\n",
              "      <td>92.511770</td>\n",
              "    </tr>\n",
              "  </tbody>\n",
              "</table>\n",
              "</div>"
            ],
            "text/plain": [
              "         Age  Systolic_BP  Diastolic_BP  Cholesterol\n",
              "0  77.196340    85.288742     80.021878    79.957109\n",
              "1  63.529850    99.379736     84.852361   110.382411\n",
              "2  69.003986   111.349455    109.850616   100.828246\n",
              "3  82.638210    95.056128     79.666851    87.066303\n",
              "4  78.346286   109.154591     90.713220    92.511770"
            ]
          },
          "metadata": {
            "tags": []
          },
          "execution_count": 5
        }
      ]
    },
    {
      "cell_type": "code",
      "metadata": {
        "id": "wxQpqoAN_4yx",
        "colab_type": "code",
        "outputId": "fe1daa11-37de-4b5e-8ae4-9fcb3c552311",
        "colab": {
          "base_uri": "https://localhost:8080/",
          "height": 119
        }
      },
      "source": [
        "# plot the head of target\n",
        "y.head()"
      ],
      "execution_count": 6,
      "outputs": [
        {
          "output_type": "execute_result",
          "data": {
            "text/plain": [
              "0    1.0\n",
              "1    1.0\n",
              "2    1.0\n",
              "3    1.0\n",
              "4    1.0\n",
              "Name: y, dtype: float64"
            ]
          },
          "metadata": {
            "tags": []
          },
          "execution_count": 6
        }
      ]
    },
    {
      "cell_type": "code",
      "metadata": {
        "id": "R__ucab0_9Kc",
        "colab_type": "code",
        "colab": {}
      },
      "source": [
        "# split the dataset into training and testing\n",
        "X_train, X_test, y_train, y_test = train_test_split(X, y, \n",
        "                                                    train_size=0.75, \n",
        "                                                    random_state=0)"
      ],
      "execution_count": 0,
      "outputs": []
    },
    {
      "cell_type": "code",
      "metadata": {
        "id": "D855pVnGBQLm",
        "colab_type": "code",
        "outputId": "d660b291-3192-4b6e-d4f1-083a360c0481",
        "colab": {
          "base_uri": "https://localhost:8080/",
          "height": 1000
        }
      },
      "source": [
        "# plot histogram of all the columns of the variables\n",
        "for col in X.columns:\n",
        "    X_train.loc[:, col].hist()\n",
        "    plt.title(col)\n",
        "    plt.show()"
      ],
      "execution_count": 8,
      "outputs": [
        {
          "output_type": "display_data",
          "data": {
            "image/png": "[encoded data removed]",
            "text/plain": [
              "<Figure size 432x288 with 1 Axes>"
            ]
          },
          "metadata": {
            "tags": [],
            "needs_background": "light"
          }
        },
        {
          "output_type": "display_data",
          "data": {
            "image/png": "[encoded data removed]",
            "text/plain": [
              "<Figure size 432x288 with 1 Axes>"
            ]
          },
          "metadata": {
            "tags": [],
            "needs_background": "light"
          }
        },
        {
          "output_type": "display_data",
          "data": {
            "image/png": "[encoded data removed]",
            "text/plain": [
              "<Figure size 432x288 with 1 Axes>"
            ]
          },
          "metadata": {
            "tags": [],
            "needs_background": "light"
          }
        },
        {
          "output_type": "display_data",
          "data": {
            "image/png": "[encoded data removed]",
            "text/plain": [
              "<Figure size 432x288 with 1 Axes>"
            ]
          },
          "metadata": {
            "tags": [],
            "needs_background": "light"
          }
        }
      ]
    },
    {
      "cell_type": "code",
      "metadata": {
        "id": "b3E8EYTRBTWE",
        "colab_type": "code",
        "colab": {}
      },
      "source": [
        "# function to normalize the dataset\n",
        "def normalize(train, test):\n",
        "    # remove the skew by using the log value of the data\n",
        "    train_unskewed = np.log(train)\n",
        "    test_unskewed = np.log(test)\n",
        "\n",
        "    # calculate the mean and the standard deviation of \n",
        "    # the training data\n",
        "    mean = np.mean(train_unskewed, axis=0)\n",
        "    stdev = train_unskewed.std(ddof=1)\n",
        "\n",
        "    # normalize the train and test datasets\n",
        "    train_norm = (train_unskewed - mean) / stdev\n",
        "    teat_norm = (test_unskewed - mean) / stdev\n",
        "\n",
        "    return train_norm, test_norm"
      ],
      "execution_count": 0,
      "outputs": []
    },
    {
      "cell_type": "code",
      "metadata": {
        "id": "9cq-BubYDkg8",
        "colab_type": "code",
        "colab": {}
      },
      "source": [
        "# normalize the dataset\n",
        "X_train, X_test = normalize(X_train, X_test)"
      ],
      "execution_count": 0,
      "outputs": []
    },
    {
      "cell_type": "code",
      "metadata": {
        "id": "7BGs09H9Dvck",
        "colab_type": "code",
        "outputId": "bda6ac08-2652-45c0-f765-811bd74e4cdd",
        "colab": {
          "base_uri": "https://localhost:8080/",
          "height": 1000
        }
      },
      "source": [
        "# plot the histograms after normalizing the dataset\n",
        "for col in X_train.columns:\n",
        "    X_train[col].hist()\n",
        "    plt.title(col)\n",
        "    plt.show()"
      ],
      "execution_count": 11,
      "outputs": [
        {
          "output_type": "display_data",
          "data": {
            "image/png": "[encoded data removed]",
            "text/plain": [
              "<Figure size 432x288 with 1 Axes>"
            ]
          },
          "metadata": {
            "tags": [],
            "needs_background": "light"
          }
        },
        {
          "output_type": "display_data",
          "data": {
            "image/png": "[encoded data removed]",
            "text/plain": [
              "<Figure size 432x288 with 1 Axes>"
            ]
          },
          "metadata": {
            "tags": [],
            "needs_background": "light"
          }
        },
        {
          "output_type": "display_data",
          "data": {
            "image/png": "[encoded data removed]",
            "text/plain": [
              "<Figure size 432x288 with 1 Axes>"
            ]
          },
          "metadata": {
            "tags": [],
            "needs_background": "light"
          }
        },
        {
          "output_type": "display_data",
          "data": {
            "image/png": "[encoded data removed]",
            "text/plain": [
              "<Figure size 432x288 with 1 Axes>"
            ]
          },
          "metadata": {
            "tags": [],
            "needs_background": "light"
          }
        }
      ]
    },
    {
      "cell_type": "code",
      "metadata": {
        "id": "EJkhBIKKD-BR",
        "colab_type": "code",
        "colab": {}
      },
      "source": [
        "# function to calculate the C-Index\n",
        "def cIndex(y, scores):\n",
        "    concordant = 0\n",
        "    permissible = 0\n",
        "    ties = 0\n",
        "\n",
        "    for i in range(len(y)):\n",
        "        for j in range(i+1, len(y)):\n",
        "\n",
        "            # check if permissible\n",
        "            if y[i] != y[j]:\n",
        "                permissible += 1\n",
        "\n",
        "                # check for ties\n",
        "                if scores[i] == scores[j]:\n",
        "                    ties += 1\n",
        "                    continue\n",
        "                \n",
        "                # case 1: \n",
        "                #   patient i doesn't get the disease,\n",
        "                #   patient j does\n",
        "                if y[i] == 0 and y[j] == 1:\n",
        "                    # concordant: check if i has lower score\n",
        "                    if scores[i] < scores[j]:\n",
        "                        concordant += 1\n",
        "                \n",
        "                # case 2: \n",
        "                #   patient i gets the disease,\n",
        "                #   patient j doesn't\n",
        "                if y[i] == 1 and y[j] == 0:\n",
        "                    # concordant: check if i has higher score\n",
        "                    if scores[i] > scores[j]:\n",
        "                        concordant += 1\n",
        "\n",
        "    # calculate the C-Index\n",
        "    c_index = (concordant + 0.5 * ties) / permissible\n",
        "\n",
        "    return c_index"
      ],
      "execution_count": 0,
      "outputs": []
    },
    {
      "cell_type": "code",
      "metadata": {
        "id": "AEcy1DOAGD6Y",
        "colab_type": "code",
        "colab": {}
      },
      "source": [
        "# function to add interactions to the dataset\n",
        "def interactions(X):\n",
        "    # create a copy of the dataset\n",
        "    X_int = X.copy(deep=True)\n",
        "\n",
        "    for i in range(len(X.columns)):\n",
        "        # get name and data for ith feature\n",
        "        feature_i_name = X.columns[i]\n",
        "        feature_i_data = X[feature_i_name]\n",
        "\n",
        "        for j in range(i+1, len(X.columns)):\n",
        "            # get name and data for jth feature\n",
        "            feature_j_name = X.columns[j]\n",
        "            feature_j_data = X[feature_j_name]\n",
        "\n",
        "            # create a new name for the interaction column\n",
        "            feature_i_j_name = f\"{feature_i_name}_x_{feature_j_name}\"\n",
        "\n",
        "            # calculate the data for the interaction column\n",
        "            X_int[feature_i_j_name] = feature_i_data * feature_j_data\n",
        "    \n",
        "    return X_int"
      ],
      "execution_count": 0,
      "outputs": []
    },
    {
      "cell_type": "code",
      "metadata": {
        "id": "479uF4nbJ0Ea",
        "colab_type": "code",
        "colab": {}
      },
      "source": [
        "# add interactions to the train and test dataset\n",
        "X_train = interactions(X_train)\n",
        "X_test = interactions(X_test)"
      ],
      "execution_count": 0,
      "outputs": []
    },
    {
      "cell_type": "code",
      "metadata": {
        "id": "zg7WUIISJ9AC",
        "colab_type": "code",
        "outputId": "3876535c-fb03-4fb5-a208-ed61a1ed72e4",
        "colab": {
          "base_uri": "https://localhost:8080/",
          "height": 102
        }
      },
      "source": [
        "# check the columns after adding interaction features\n",
        "X_train.columns"
      ],
      "execution_count": 15,
      "outputs": [
        {
          "output_type": "execute_result",
          "data": {
            "text/plain": [
              "Index(['Age', 'Systolic_BP', 'Diastolic_BP', 'Cholesterol',\n",
              "       'Age_x_Systolic_BP', 'Age_x_Diastolic_BP', 'Age_x_Cholesterol',\n",
              "       'Systolic_BP_x_Diastolic_BP', 'Systolic_BP_x_Cholesterol',\n",
              "       'Diastolic_BP_x_Cholesterol'],\n",
              "      dtype='object')"
            ]
          },
          "metadata": {
            "tags": []
          },
          "execution_count": 15
        }
      ]
    },
    {
      "cell_type": "code",
      "metadata": {
        "id": "RW3DF6x2Dw_O",
        "colab_type": "code",
        "outputId": "66464c51-5c21-4f1a-c46b-1e76d20491b6",
        "colab": {
          "base_uri": "https://localhost:8080/",
          "height": 102
        }
      },
      "source": [
        "# create a model and fit the dataset\n",
        "model = LogisticRegression()\n",
        "model.fit(X_train, y_train)"
      ],
      "execution_count": 16,
      "outputs": [
        {
          "output_type": "execute_result",
          "data": {
            "text/plain": [
              "LogisticRegression(C=1.0, class_weight=None, dual=False, fit_intercept=True,\n",
              "                   intercept_scaling=1, l1_ratio=None, max_iter=100,\n",
              "                   multi_class='auto', n_jobs=None, penalty='l2',\n",
              "                   random_state=None, solver='lbfgs', tol=0.0001, verbose=0,\n",
              "                   warm_start=False)"
            ]
          },
          "metadata": {
            "tags": []
          },
          "execution_count": 16
        }
      ]
    },
    {
      "cell_type": "code",
      "metadata": {
        "id": "QHbS5UuaKDb-",
        "colab_type": "code",
        "outputId": "fb35b700-946c-4abf-814c-127ef0d9d1f3",
        "colab": {
          "base_uri": "https://localhost:8080/",
          "height": 34
        }
      },
      "source": [
        "# evaluate the model\n",
        "predictions = model.predict_proba(X_test)[:, 1]\n",
        "c_index = cIndex(y_test.values, predictions)\n",
        "\n",
        "print(c_index)"
      ],
      "execution_count": 17,
      "outputs": [
        {
          "output_type": "stream",
          "text": [
            "0.8281427779041984\n"
          ],
          "name": "stdout"
        }
      ]
    },
    {
      "cell_type": "code",
      "metadata": {
        "id": "piuCax8gKkZQ",
        "colab_type": "code",
        "outputId": "9467ac75-0bb1-42ad-c7b3-6e0cccf63301",
        "colab": {
          "base_uri": "https://localhost:8080/",
          "height": 389
        }
      },
      "source": [
        "# plot the coefficients of the features\n",
        "int_coeffs = pd.DataFrame(data = model.coef_, columns = X_train.columns)\n",
        "int_coeffs.T.plot.bar();"
      ],
      "execution_count": 18,
      "outputs": [
        {
          "output_type": "display_data",
          "data": {
            "image/png": "[encoded data removed]",
            "text/plain": [
              "<Figure size 432x288 with 1 Axes>"
            ]
          },
          "metadata": {
            "tags": [],
            "needs_background": "light"
          }
        }
      ]
    },
    {
      "cell_type": "code",
      "metadata": {
        "id": "OJBNaeIUkxUd",
        "colab_type": "code",
        "colab": {
          "base_uri": "https://localhost:8080/",
          "height": 34
        },
        "outputId": "984c840e-cff3-4f1f-b312-e932d333ab67"
      },
      "source": [
        "# get the list of columns with small coefficients\n",
        "dropColumns = []\n",
        "\n",
        "for (i, coeff) in enumerate(model.coef_[0]):\n",
        "    if abs(coeff) < 0.05:\n",
        "        dropColumns.append(X_train.columns[i])\n",
        "\n",
        "dropColumns"
      ],
      "execution_count": 27,
      "outputs": [
        {
          "output_type": "execute_result",
          "data": {
            "text/plain": [
              "['Age_x_Systolic_BP', 'Systolic_BP_x_Diastolic_BP']"
            ]
          },
          "metadata": {
            "tags": []
          },
          "execution_count": 27
        }
      ]
    },
    {
      "cell_type": "code",
      "metadata": {
        "id": "9NCiqaNClI_d",
        "colab_type": "code",
        "colab": {}
      },
      "source": [
        "# drop the columns with small coefficients\n",
        "X_train = X_train.drop(dropColumns, axis=1)\n",
        "X_test = X_test.drop(dropColumns, axis=1)"
      ],
      "execution_count": 0,
      "outputs": []
    },
    {
      "cell_type": "code",
      "metadata": {
        "id": "YgC3fYbTlVBy",
        "colab_type": "code",
        "colab": {
          "base_uri": "https://localhost:8080/",
          "height": 102
        },
        "outputId": "c5a76afa-2606-4232-c4b2-071eff745d09"
      },
      "source": [
        "# create a new model and fit the dataset\n",
        "model_new = LogisticRegression()\n",
        "model_new.fit(X_train, y_train)"
      ],
      "execution_count": 29,
      "outputs": [
        {
          "output_type": "execute_result",
          "data": {
            "text/plain": [
              "LogisticRegression(C=1.0, class_weight=None, dual=False, fit_intercept=True,\n",
              "                   intercept_scaling=1, l1_ratio=None, max_iter=100,\n",
              "                   multi_class='auto', n_jobs=None, penalty='l2',\n",
              "                   random_state=None, solver='lbfgs', tol=0.0001, verbose=0,\n",
              "                   warm_start=False)"
            ]
          },
          "metadata": {
            "tags": []
          },
          "execution_count": 29
        }
      ]
    },
    {
      "cell_type": "code",
      "metadata": {
        "id": "LDJRdqIolZVg",
        "colab_type": "code",
        "colab": {
          "base_uri": "https://localhost:8080/",
          "height": 34
        },
        "outputId": "14bece4c-bb57-4eac-be83-d87324eb2c2e"
      },
      "source": [
        "# evaluate the new model\n",
        "predictions = model_new.predict_proba(X_test)[:, 1]\n",
        "c_index = cIndex(y_test.values, predictions)\n",
        "\n",
        "print(c_index)"
      ],
      "execution_count": 30,
      "outputs": [
        {
          "output_type": "stream",
          "text": [
            "0.8285623364432814\n"
          ],
          "name": "stdout"
        }
      ]
    },
    {
      "cell_type": "code",
      "metadata": {
        "id": "Z_39-C3xldN3",
        "colab_type": "code",
        "colab": {
          "base_uri": "https://localhost:8080/",
          "height": 68
        },
        "outputId": "9bf8e5b2-901b-47da-a1f4-d3132f38b316"
      },
      "source": [
        "# New set of attributes\n",
        "X_train.columns"
      ],
      "execution_count": 32,
      "outputs": [
        {
          "output_type": "execute_result",
          "data": {
            "text/plain": [
              "Index(['Age', 'Systolic_BP', 'Cholesterol', 'Age_x_Diastolic_BP',\n",
              "       'Age_x_Cholesterol'],\n",
              "      dtype='object')"
            ]
          },
          "metadata": {
            "tags": []
          },
          "execution_count": 32
        }
      ]
    },
    {
      "cell_type": "code",
      "metadata": {
        "id": "DT8-k3BPl93w",
        "colab_type": "code",
        "colab": {}
      },
      "source": [
        ""
      ],
      "execution_count": 0,
      "outputs": []
    }
  ]
}